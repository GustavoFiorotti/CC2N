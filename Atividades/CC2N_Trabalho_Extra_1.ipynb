{
  "nbformat": 4,
  "nbformat_minor": 0,
  "metadata": {
    "colab": {
      "provenance": [],
      "include_colab_link": true
    },
    "kernelspec": {
      "name": "python3",
      "display_name": "Python 3"
    }
  },
  "cells": [
    {
      "cell_type": "markdown",
      "metadata": {
        "id": "view-in-github",
        "colab_type": "text"
      },
      "source": [
        "<a href=\"https://colab.research.google.com/github/GustavoFiorotti/CC2N/blob/main/CC2N_Trabalho_Extra_1.ipynb\" target=\"_parent\"><img src=\"https://colab.research.google.com/assets/colab-badge.svg\" alt=\"Open In Colab\"/></a>"
      ]
    },
    {
      "cell_type": "markdown",
      "metadata": {
        "id": "G90zxY79qIXe"
      },
      "source": [
        "\n",
        "<html>\n",
        "  <body>\n",
        "    <header></header>\n",
        "        <CENTER>\n",
        "          <img src=\"https://uvv.br/wp-content/themes/uvvBr/templates/assets//img/logouvv.svg\" alt=\"UVV-LOGO\" style = width=\"100px\"; height=\"100px\">\n",
        "        </CENTER>\n",
        "        <CENTER><b>LABORATÓRIO DE PROGRAMAÇAO - PYTHON</b></CENTER>\n",
        "        <CENTER><b>ATIVIDADE EXTRA</b></CENTER>"
      ]
    },
    {
      "cell_type": "markdown",
      "source": [
        "**Nome: GUSTAVO UNEIDA FIOROTTI - CC2N**"
      ],
      "metadata": {
        "id": "6F4VNEP8SnDw"
      }
    },
    {
      "cell_type": "markdown",
      "source": [
        "**MEU** LINK COLAB: [Link](https://colab.research.google.com/drive/13dOlgC-0RA4OHTFHJWailOkxUhvRLno8?usp=sharing)"
      ],
      "metadata": {
        "id": "VGKo5hTSCMcA"
      }
    },
    {
      "cell_type": "markdown",
      "metadata": {
        "id": "CWZ7nYLvZjR8"
      },
      "source": [
        "# LETRA C\n"
      ]
    },
    {
      "cell_type": "code",
      "source": [
        "#C) Calcular e exibir a área de um retângulo de lado (L) e altura (H). Área = L * H.\n",
        "\n",
        "import math\n",
        "L = float(input('Para calcular a área de um retângulo, primeiro, informe a medida do lado: '))\n",
        "H = float(input('Agora, a altura: '))\n",
        "\n",
        "area = L * H\n",
        "\n",
        "print()\n",
        "\n",
        "print(f'A área do retângulo é {area:.2f} m\\u00B2')"
      ],
      "metadata": {
        "id": "ekCLKHdxajvB",
        "colab": {
          "base_uri": "https://localhost:8080/"
        },
        "outputId": "78d4ba94-5934-40dc-9cc6-572d460f57dd"
      },
      "execution_count": null,
      "outputs": [
        {
          "output_type": "stream",
          "name": "stdout",
          "text": [
            "Para calcular a área de um retângulo, primeiro, informe a medida do lado: 20\n",
            "Agora, a altura: 10\n",
            "\n",
            "A área do retângulo é 200.00 m²\n"
          ]
        }
      ]
    },
    {
      "cell_type": "markdown",
      "metadata": {
        "id": "stTvYgS0Z1_e"
      },
      "source": [
        "# LETRA J:"
      ]
    },
    {
      "cell_type": "code",
      "metadata": {
        "id": "I0jBku9KZ0sk",
        "colab": {
          "base_uri": "https://localhost:8080/"
        },
        "outputId": "846a5be8-6f80-49a2-dde2-5c6c03dead5f"
      },
      "source": [
        "# J) Calcular e exibir o tempo (em horas) de autonomia de uma caixa d’água de um restaurante que consome 1350 litros por hora em média.\n",
        "#O tanque do restaurante é cilíndrico de base circular de Raio (R) e de altura (H) em metros. Sabendo que 1 m3 = 1000 Litros.\n",
        "\n",
        "import math\n",
        "\n",
        "R = float(input(\"Insira o raio da caixa d'água: \"))\n",
        "H = float(input(\"Agora, insira a altura da caixa d'água: \"))\n",
        "\n",
        "v = (R**2 * H * math.pi) * 1000\n",
        "\n",
        "autonomia = v/1350\n",
        "\n",
        "print(f'Valor final: {autonomia:.2f} horas em média')"
      ],
      "execution_count": null,
      "outputs": [
        {
          "output_type": "stream",
          "name": "stdout",
          "text": [
            "Insira o raio da caixa d'água: 2\n",
            "Agora, insira a altura da caixa d'água: 3\n",
            "Valor final: 27.93 horas\n"
          ]
        }
      ]
    },
    {
      "cell_type": "markdown",
      "source": [
        "# LETRA K:"
      ],
      "metadata": {
        "id": "B-d-ZkxwannI"
      }
    },
    {
      "cell_type": "markdown",
      "source": [],
      "metadata": {
        "id": "XwqVgRgHTXEO"
      }
    },
    {
      "cell_type": "code",
      "source": [
        "# K) Faça um programa que peça o tamanho de um arquivo para download (em Megabytes) e a velocidade de um link de\n",
        "#Internet (em Megabytes / Segundo), calcule e informe o tempo: Minutos + Segundos aproximado de download do arquivo usando este link.\n",
        "\n",
        "M = float(input('Insira o tamanho do arquivo em megabytes: '))\n",
        "\n",
        "velocidade = float(input('Insira o valor da sua internet em mbps: '))\n",
        "\n",
        "tempo_total = M/velocidade\n",
        "\n",
        "minutos = int(tempo_total // 60)\n",
        "segundos = int(tempo_total % 60)\n",
        "\n",
        "print(f'Tempo estimado de download de {minutos} minutos e {segundos} segundos.')"
      ],
      "metadata": {
        "id": "HchpTAzsaoPo",
        "colab": {
          "base_uri": "https://localhost:8080/"
        },
        "outputId": "359e9d8b-3c67-4323-f670-a63b95041b8e"
      },
      "execution_count": null,
      "outputs": [
        {
          "output_type": "stream",
          "name": "stdout",
          "text": [
            "Insira o tamanho do arquivo em megabytes: 500\n",
            "Insira o valor da sua internet em mbps: 20\n",
            "Tempo estimado de download de 0 minutos e 25 segundos.\n"
          ]
        }
      ]
    },
    {
      "cell_type": "markdown",
      "source": [
        "\n",
        "\n",
        "---\n"
      ],
      "metadata": {
        "id": "9U59NLR9TV0_"
      }
    },
    {
      "cell_type": "code",
      "source": [
        "%%shell\n",
        "jupyter nbconvert --to html /content/out.ipynb"
      ],
      "metadata": {
        "colab": {
          "base_uri": "https://localhost:8080/"
        },
        "id": "huVT1H7IFDt7",
        "outputId": "ff0cb6c1-43fe-4655-d365-9e0c440c1b6a",
        "collapsed": true
      },
      "execution_count": null,
      "outputs": [
        {
          "output_type": "stream",
          "name": "stdout",
          "text": [
            "[NbConvertApp] Converting notebook /content/out.ipynb to html\n",
            "[NbConvertApp] Writing 601223 bytes to /content/out.html\n"
          ]
        },
        {
          "output_type": "execute_result",
          "data": {
            "text/plain": []
          },
          "metadata": {},
          "execution_count": 22
        }
      ]
    }
  ]
}