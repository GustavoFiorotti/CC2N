{
  "nbformat": 4,
  "nbformat_minor": 0,
  "metadata": {
    "colab": {
      "provenance": [],
      "include_colab_link": true
    },
    "kernelspec": {
      "name": "python3",
      "display_name": "Python 3"
    }
  },
  "cells": [
    {
      "cell_type": "markdown",
      "metadata": {
        "id": "view-in-github",
        "colab_type": "text"
      },
      "source": [
        "<a href=\"https://colab.research.google.com/github/GustavoFiorotti/CC2N/blob/main/CC2N_Trabalho_Extra_3.ipynb\" target=\"_parent\"><img src=\"https://colab.research.google.com/assets/colab-badge.svg\" alt=\"Open In Colab\"/></a>"
      ]
    },
    {
      "cell_type": "markdown",
      "metadata": {
        "id": "G90zxY79qIXe"
      },
      "source": [
        "\n",
        "<html>\n",
        "  <body>\n",
        "    <header></header>\n",
        "        <CENTER>\n",
        "          <img src=\"https://uvv.br/wp-content/themes/uvvBr/templates/assets//img/logouvv.svg\" alt=\"UVV-LOGO\" style = width=\"100px\"; height=\"100px\">\n",
        "        </CENTER>\n",
        "        <CENTER><b>LABORATÓRIO DE PROGRAMAÇAO</b></CENTER>\n",
        "        <CENTER><b>ATIVIDADE EXTRA</b></CENTER>"
      ]
    },
    {
      "cell_type": "markdown",
      "source": [
        "NOME: GUSTAVO UNEIDA FIOROTTI - CC2N"
      ],
      "metadata": {
        "id": "cTWjy-UMSZKR"
      }
    },
    {
      "cell_type": "markdown",
      "source": [
        "MEU LINK COLAB: [Link](https://colab.research.google.com/drive/1qBzFD7HsIMBqbs83Y5CQ5d2QVoCr1Khm?usp=sharing)"
      ],
      "metadata": {
        "id": "VGKo5hTSCMcA"
      }
    },
    {
      "cell_type": "markdown",
      "metadata": {
        "id": "CWZ7nYLvZjR8"
      },
      "source": [
        "# NÚMERO 4:\n",
        "\n"
      ]
    },
    {
      "cell_type": "code",
      "source": [
        "try:\n",
        "    sexo = input('Você é homem (M) ou mulher (F)?: ').upper()\n",
        "\n",
        "    if sexo == \"M\" or sexo == \"F\":\n",
        "        h = float(input('Insira a sua altura: '))\n",
        "\n",
        "        if sexo == \"M\":\n",
        "            massa = (72.7 * h) - 58\n",
        "        else:\n",
        "            massa = (62.1 * h) - 44.7\n",
        "\n",
        "        print(f'O seu peso é {massa:.2f} Kgs.')\n",
        "    else:\n",
        "        print('ERRO: Insira M para homem ou F para mulher.')\n",
        "\n",
        "except ValueError:\n",
        "    print('ERRO: Insira um valor numérico válido para a altura.')\n"
      ],
      "metadata": {
        "id": "ekCLKHdxajvB",
        "colab": {
          "base_uri": "https://localhost:8080/"
        },
        "outputId": "c4bcd20e-b2dc-4fe8-8d9f-b155e6c5f1ac"
      },
      "execution_count": null,
      "outputs": [
        {
          "output_type": "stream",
          "name": "stdout",
          "text": [
            "Você é homem (M) ou mulher (F)?: m\n",
            "Insira a sua altura: 1.7\n",
            "O seu peso é 65.59 Kgs.\n"
          ]
        }
      ]
    },
    {
      "cell_type": "markdown",
      "metadata": {
        "id": "stTvYgS0Z1_e"
      },
      "source": [
        "# NÚMERO 16:"
      ]
    },
    {
      "cell_type": "code",
      "metadata": {
        "id": "I0jBku9KZ0sk"
      },
      "source": [
        "try:\n",
        "\n",
        "  v1 = int(input('Insira o PRIMEIRO valor: '))\n",
        "  v2 = int(input('Insira o SEGUNDO valor: '))\n",
        "  v3 = int(input('Insira o TERCEIRO valor: '))\n",
        "\n",
        "  if v1 == v2 or v1 == v3 or v2 == v3:\n",
        "    print('Valores iguais.')\n",
        "\n",
        "  else:\n",
        "\n",
        "    print()\n",
        "\n",
        "    if v1 > v2:\n",
        "\n",
        "      soma = (v2 + v3) /2\n",
        "\n",
        "      print(f'A soma dos maiores irá dar {soma}.')\n",
        "\n",
        "    elif v2 > v3:\n",
        "\n",
        "      soma = (v2 + v1) /2\n",
        "\n",
        "      print(f'A soma dos maiores irá dar {soma}.')\n",
        "\n",
        "    elif v3 > v2:\n",
        "\n",
        "      soma = (v1 + v3) /2\n",
        "\n",
        "      print(f'A soma dos maiores irá dar {soma}.')\n",
        "\n",
        "except:\n",
        "  print('ERRO: Valores incorretos.')\n"
      ],
      "execution_count": null,
      "outputs": []
    },
    {
      "cell_type": "markdown",
      "source": [
        "# NÚMERO 17:"
      ],
      "metadata": {
        "id": "B-d-ZkxwannI"
      }
    },
    {
      "cell_type": "code",
      "source": [
        "try:\n",
        "  a = float(input('Insira o valor A: '))\n",
        "  b = float(input('Insira o valor B: '))\n",
        "  c = float(input('Insira o valor C: '))\n",
        "\n",
        "  if not a < b + c and b < a + c and c < a + b:\n",
        "    print('Não é um triângulo.')\n",
        "\n",
        "  else:\n",
        "    print()\n",
        "\n",
        "    if a == b == c:\n",
        "      print('Por ser 3 valores iguais, temos um TRIÂNGULO EQUILÁTERO.')\n",
        "\n",
        "    elif a != b != c:\n",
        "      print('Por ser 3 valores diferentes, temos um TRIÂNGULO ESCALENO.')\n",
        "\n",
        "    else:\n",
        "      print('Por ser 2 valores iguais e 1 diferente, temos um TRIÂNGULO ISÓCELES.')\n",
        "\n",
        "except:\n",
        "  print('ERRO: Você digitou um valor errado.')"
      ],
      "metadata": {
        "id": "HchpTAzsaoPo"
      },
      "execution_count": null,
      "outputs": []
    },
    {
      "cell_type": "code",
      "source": [
        "%%shell\n",
        "jupyter nbconvert --to html /content/out.ipynb"
      ],
      "metadata": {
        "colab": {
          "base_uri": "https://localhost:8080/"
        },
        "id": "wws4EvbHRjOS",
        "outputId": "f71c1d3e-836b-4ede-8424-4a0ace513e16"
      },
      "execution_count": null,
      "outputs": [
        {
          "output_type": "stream",
          "name": "stdout",
          "text": [
            "[NbConvertApp] Converting notebook /content/out.ipynb to html\n",
            "[NbConvertApp] Writing 588067 bytes to /content/out.html\n"
          ]
        },
        {
          "output_type": "execute_result",
          "data": {
            "text/plain": []
          },
          "metadata": {},
          "execution_count": 2
        }
      ]
    }
  ]
}