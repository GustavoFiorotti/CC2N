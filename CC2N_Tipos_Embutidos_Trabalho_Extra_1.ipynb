{
  "nbformat": 4,
  "nbformat_minor": 0,
  "metadata": {
    "colab": {
      "provenance": [],
      "include_colab_link": true
    },
    "kernelspec": {
      "name": "python3",
      "display_name": "Python 3"
    }
  },
  "cells": [
    {
      "cell_type": "markdown",
      "metadata": {
        "id": "view-in-github",
        "colab_type": "text"
      },
      "source": [
        "<a href=\"https://colab.research.google.com/github/GustavoFiorotti/CC2N/blob/main/CC2N_Tipos_Embutidos_Trabalho_Extra_1.ipynb\" target=\"_parent\"><img src=\"https://colab.research.google.com/assets/colab-badge.svg\" alt=\"Open In Colab\"/></a>"
      ]
    },
    {
      "cell_type": "markdown",
      "metadata": {
        "id": "G90zxY79qIXe"
      },
      "source": [
        "\n",
        "<html>\n",
        "  <body>\n",
        "    <header></header>\n",
        "        <CENTER>\n",
        "          <img src=\"https://uvv.br/wp-content/themes/uvvBr/templates/assets//img/logouvv.svg\" alt=\"UVV-LOGO\" style = width=\"100px\"; height=\"100px\">\n",
        "        </CENTER>\n",
        "        <CENTER><b>LABORATÓRIO DE PROGRAMAÇAO</b></CENTER>\n",
        "        <CENTER><b>ATIVIDADE EXTRA</b></CENTER>"
      ]
    },
    {
      "cell_type": "markdown",
      "source": [
        "NOME: GUSTAVO UNEIDA FIOROTTI - CC2N"
      ],
      "metadata": {
        "id": "cTWjy-UMSZKR"
      }
    },
    {
      "cell_type": "markdown",
      "source": [
        "MEU LINK COLAB: [Link](https://colab.research.google.com/drive/1_e9pXEK4b0v3BDtJigkQOIuBHk_b3NJj?usp=sharing)"
      ],
      "metadata": {
        "id": "VGKo5hTSCMcA"
      }
    },
    {
      "cell_type": "markdown",
      "metadata": {
        "id": "CWZ7nYLvZjR8"
      },
      "source": [
        "# CRIANDO LISTA:\n",
        "\n"
      ]
    },
    {
      "cell_type": "markdown",
      "source": [
        "Criar uma lista de compra com nomes de mercadorias lidas (**Método: append**) do usuário.\n",
        "\n",
        "Após isso, faça:\n",
        "\n",
        "1. **RELATÓRIO 1 (Método: index)**: Pesquisar uma mercadoria pelo nome a escolha do usuário.\n",
        "2. **RELATÓRIO 2 (len + indexação)**: Pesquisar uma mercadoria pela posição na lista a escolha do usuário.\n",
        "3. **RELATÓRIO 3 (remove)**: Remover uma mercadoria da lista a escolha do usuário pelo nome.\n",
        "3. **RELATÓRIO 4 (pop)**: Remover uma mercadoria da lista a escolha do usuário pela posição na lista.\n",
        "4. **RELATÓRIO 5**: Exibir na tela a lista enumerada (**função: enumerate**) de mercadoria em ordem alfabética(**Método: sort**)."
      ],
      "metadata": {
        "id": "PTdetyD_kOCm"
      }
    },
    {
      "cell_type": "code",
      "source": [
        "compras = []   # LISTA HOMOGÊNEA DE DADOS (str) - RESETAR: DELETAR TODOS OS DADOS"
      ],
      "metadata": {
        "id": "JFbEoW5ake6o"
      },
      "execution_count": null,
      "outputs": []
    },
    {
      "cell_type": "code",
      "source": [
        "#LISTA\n",
        "counter = 0\n",
        "while True:\n",
        "  try:\n",
        "    print(f'{counter + 1}º USUÁRIO, digite (1) para INSERIR um produto, (2) para iniciar o relatório e (0) para ENCERRAR: ',end='')\n",
        "    valor = int(input())\n",
        "    if valor < 0 or valor > 2:\n",
        "      print('ERRO: Valor digitado não está na variável.')\n",
        "    elif valor == 0:\n",
        "      print('PROGRAMA ENCERRADO.')\n",
        "      break\n",
        "    else:\n",
        "      counter += 1\n",
        "      if valor == 1:\n",
        "        try:\n",
        "          print(f'Insira o nome do {len(compras) + 1}º PRODUTO: ',end='')\n",
        "          nomeProd = str(input()).upper()\n",
        "          compras.append(nomeProd)\n",
        "        except:\n",
        "          print('ERRO: Digite novamente.')\n",
        "      else:\n",
        "        print('RELATÓRIO: Digite (1) para fazer uma pesquisa por nome, (2) para fazer uma pesquisa por posição, (3) para remover por nome, (4) para remover por posição, (5) para exibir a lista ou (0) para encerrar o programa: ')\n",
        "        while True:\n",
        "          try:\n",
        "            print(f'{counter}º USUÁRIO, Digite qual relatório quer iniciar: ')\n",
        "            choose = int(input())\n",
        "            if choose < 0 or choose > 5:\n",
        "              print('ERRO: Valor digitado não está dentro do intervalo.')\n",
        "            elif choose == 0:\n",
        "              print('PROGRAMA ENCERRADO.')\n",
        "              break\n",
        "            else:\n",
        "              try:\n",
        "                valor = str(input('Insira o valor: ')).upper()\n",
        "                if choose == 1:\n",
        "                  if valor in compras:\n",
        "                    print(f'{compras.index(valor) + 1}º: {valor}')\n",
        "                  else:\n",
        "                    print('ERRO: Valor não está na lista, digite novamente.')\n",
        "                elif choose == 2:\n",
        "                  compras[valor - 1]\n",
        "                elif choose == 4:\n",
        "                  print(f'Lista de compras com {len(compras)} itens: ')\n",
        "                  compras.sort()\n",
        "                  for contagem,item in enumerate(compras):\n",
        "                    print(f'{contagem + 1}º ITEM: {item}.')\n",
        "              except:\n",
        "                print('ERRO: Digite novamente.')\n",
        "            print()\n",
        "          except:\n",
        "            print('ERRO: Digite novamente.')\n",
        "  except:\n",
        "    print('ERRO: Digite novamente.')"
      ],
      "metadata": {
        "colab": {
          "base_uri": "https://localhost:8080/"
        },
        "id": "oAdALnIHkkg6",
        "outputId": "61606d72-3927-4ae8-9ea6-1aa7f238781b"
      },
      "execution_count": null,
      "outputs": [
        {
          "output_type": "stream",
          "name": "stdout",
          "text": [
            "1º USUÁRIO, digite (1) para INSERIR um produto, (2) para iniciar o relatório e (0) para ENCERRAR: 2\n",
            "RELATÓRIO: Digite (1) para fazer uma pesquisa por nome, (2) para fazer uma pesquisa por posição, (3) para remover por nome, (4) para remover por posição, (5) para exibir a lista ou (0) para encerrar o programa: \n",
            "1º USUÁRIO, Digite qual relatório quer iniciar: \n",
            "2\n",
            "Insira o valor: 1\n",
            "PERA\n",
            "1º USUÁRIO, Digite qual relatório quer iniciar: \n",
            "0\n",
            "PROGRAMA ENCERRADO.\n",
            "2º USUÁRIO, digite (1) para INSERIR um produto, (2) para iniciar o relatório e (0) para ENCERRAR: 2\n",
            "RELATÓRIO: Digite (1) para fazer uma pesquisa por nome, (2) para fazer uma pesquisa por posição, (3) para remover por nome, (4) para remover por posição, (5) para exibir a lista ou (0) para encerrar o programa: \n",
            "2º USUÁRIO, Digite qual relatório quer iniciar: \n",
            "4\n",
            "Insira o valor: 0\n",
            "Lista de compras com 2 itens: \n",
            "1º ITEM: PERA.\n",
            "2º ITEM: UVA.\n",
            "2º USUÁRIO, Digite qual relatório quer iniciar: \n",
            "0\n",
            "PROGRAMA ENCERRADO.\n",
            "3º USUÁRIO, digite (1) para INSERIR um produto, (2) para iniciar o relatório e (0) para ENCERRAR: 0\n",
            "PROGRAMA ENCERRADO.\n"
          ]
        }
      ]
    },
    {
      "cell_type": "code",
      "source": [
        "%%shell\n",
        "jupyter nbconvert --to html /content/out.ipynb"
      ],
      "metadata": {
        "colab": {
          "base_uri": "https://localhost:8080/"
        },
        "id": "wws4EvbHRjOS",
        "outputId": "8b44081e-3143-40c9-993b-b4331987cc7e"
      },
      "execution_count": null,
      "outputs": [
        {
          "output_type": "stream",
          "name": "stdout",
          "text": [
            "[NbConvertApp] Converting notebook /content/out.ipynb to html\n",
            "[NbConvertApp] Writing 603479 bytes to /content/out.html\n"
          ]
        },
        {
          "output_type": "execute_result",
          "data": {
            "text/plain": []
          },
          "metadata": {},
          "execution_count": 3
        }
      ]
    }
  ]
}