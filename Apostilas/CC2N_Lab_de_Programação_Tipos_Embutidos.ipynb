{
  "nbformat": 4,
  "nbformat_minor": 0,
  "metadata": {
    "colab": {
      "provenance": [],
      "toc_visible": true,
      "include_colab_link": true
    },
    "kernelspec": {
      "name": "python3",
      "display_name": "Python 3"
    }
  },
  "cells": [
    {
      "cell_type": "markdown",
      "metadata": {
        "id": "view-in-github",
        "colab_type": "text"
      },
      "source": [
        "<a href=\"https://colab.research.google.com/github/GustavoFiorotti/CC2N/blob/main/CC2N_Lab_de_Programa%C3%A7%C3%A3o_Tipos_Embutidos.ipynb\" target=\"_parent\"><img src=\"https://colab.research.google.com/assets/colab-badge.svg\" alt=\"Open In Colab\"/></a>"
      ]
    },
    {
      "cell_type": "markdown",
      "metadata": {
        "id": "G90zxY79qIXe"
      },
      "source": [
        "<?xml version=\"1.0\" encoding=\"UTF-8\"?>\n",
        "<html>\n",
        "  <body>\n",
        "    <header></header>\n",
        "        <CENTER>\n",
        "          <img src=\"https://docentes.uvv.br/Content/img/logo-uvv.png\" alt=\"UVV-LOGO\" style = width=\"100px\"; height=\"100px\">\n",
        "        </CENTER>\n",
        "        <CENTER><b>Laboratório de Programação</b></CENTER>\n",
        "        <CENTER><b>Tipos Embutidos</b></CENTER>"
      ]
    },
    {
      "cell_type": "markdown",
      "metadata": {
        "id": "yZfJjeQgqTo_"
      },
      "source": [
        "# Conceitos\n",
        "<b>O que vamos estudar hoje:</b><br />\n",
        "    &#10139; <b>INTRODUÇÃO<br/>\n",
        "    &#10139; <b>ESTRUTURAÇÃO DE DADOS HETEROGÊNEOS - LISTA<br/>\n",
        "    &#10139; <b>MANIPULAÇÃO DE LISTAS COM OBJETOS HOMOGÊNEOS<br/>\n",
        "    &#10139; <b>TRATAMENTO DE EXCEÇÃO: TRY-EXCEPT<br/>\n",
        "    &#10139; <b>MANIPULAÇÃO DE LISTAS COM OBJETOS HETEROGÊNEOS<br/>"
      ]
    },
    {
      "cell_type": "markdown",
      "metadata": {
        "id": "f9ly1B47rg_O"
      },
      "source": [
        "#INTRODUÇÃO"
      ]
    },
    {
      "cell_type": "markdown",
      "source": [
        "As seções a seguir descrevem os tipos padrões que são **embutidos ao interpretador**.\n",
        "\n",
        "Os principais **tipos embutidos são**:\n",
        "\n",
        "* **Numéricos**\n",
        "* **Sequências**\n",
        "* **Mapeamentos**\n",
        "* **Classes**\n",
        "* **Instâncias** e\n",
        "* **Exceções**.\n",
        "\n",
        "Algumas **classes de coleção são mutáveis**. Os métodos que adicionam, subtraem ou reorganizam seus membros no lugar, e não retornam um item específico, nunca retornam a instância da coleção propriamente dita, mas um **None**.\n",
        "\n",
        "Algumas operações são suportadas por vários tipos de objetos; em particular, praticamente todos os objetos podem ser:\n",
        "\n",
        "* Comparados em termos de igualdade;\n",
        "* Testados quanto ao valor de verdade e\n",
        "* Convertidos em uma string (com a função repr() ou a função ligeiramente diferente str()).\n",
        "\n",
        "A última função é implicitamente usada quando um objeto é escrito pela função print()."
      ],
      "metadata": {
        "id": "kxd3mnysCXim"
      }
    },
    {
      "cell_type": "markdown",
      "source": [
        "#Tipos sequências — Tuple e Range"
      ],
      "metadata": {
        "id": "LjHc-EYEEJD0"
      }
    },
    {
      "cell_type": "markdown",
      "source": [
        "[STD TYPES](https://docs.python.org/pt-br/3/library/stdtypes.html)"
      ],
      "metadata": {
        "id": "oBJuKRRPELRE"
      }
    },
    {
      "cell_type": "code",
      "source": [
        "range(1, 10, 1)"
      ],
      "metadata": {
        "id": "eiQddzrvFB7X"
      },
      "execution_count": null,
      "outputs": []
    },
    {
      "cell_type": "code",
      "source": [
        "tupla = (11, 9, 23)"
      ],
      "metadata": {
        "id": "4wVNLteREac1"
      },
      "execution_count": null,
      "outputs": []
    },
    {
      "cell_type": "code",
      "source": [
        "type(tupla)"
      ],
      "metadata": {
        "id": "sA22wt3xEy47"
      },
      "execution_count": null,
      "outputs": []
    },
    {
      "cell_type": "code",
      "source": [
        "tupla"
      ],
      "metadata": {
        "id": "BNTbF0hxFnU-"
      },
      "execution_count": null,
      "outputs": []
    },
    {
      "cell_type": "code",
      "source": [
        "min(tupla)"
      ],
      "metadata": {
        "id": "MFUpftDgGtpT"
      },
      "execution_count": null,
      "outputs": []
    },
    {
      "cell_type": "markdown",
      "metadata": {
        "id": "xQspl9ckomVF"
      },
      "source": [
        "#ESTRUTURAÇÃO DE DADOS HETEROGÊNEOS - LISTA"
      ]
    },
    {
      "cell_type": "markdown",
      "metadata": {
        "id": "6jeW-xtho0tV"
      },
      "source": [
        "**Lista de objetos Python** de diversos tipos (int, float e string). Note a prática da Indexação neste exemplo, com a possibilidade de acesso crescente ou decrescente aos objetos desta lista.\n",
        "\n",
        "<center>\n",
        "\n",
        "![image.png](data:image/png;base64,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)\n",
        "\n",
        "</center>"
      ]
    },
    {
      "cell_type": "code",
      "source": [
        "import math as mt\n",
        "import numpy as np"
      ],
      "metadata": {
        "id": "d_hXzigBgL5E"
      },
      "execution_count": null,
      "outputs": []
    },
    {
      "cell_type": "code",
      "source": [
        "help(math)"
      ],
      "metadata": {
        "id": "e0i5Vcn0MRjs"
      },
      "execution_count": null,
      "outputs": []
    },
    {
      "cell_type": "code",
      "source": [
        "help(list)"
      ],
      "metadata": {
        "id": "poxVkdqiMJqL",
        "colab": {
          "base_uri": "https://localhost:8080/"
        },
        "collapsed": true,
        "outputId": "509367d8-e07f-49f9-dfcb-b263eab505f4"
      },
      "execution_count": null,
      "outputs": [
        {
          "output_type": "stream",
          "name": "stdout",
          "text": [
            "Help on class list in module builtins:\n",
            "\n",
            "class list(object)\n",
            " |  list(iterable=(), /)\n",
            " |  \n",
            " |  Built-in mutable sequence.\n",
            " |  \n",
            " |  If no argument is given, the constructor creates a new empty list.\n",
            " |  The argument must be an iterable if specified.\n",
            " |  \n",
            " |  Methods defined here:\n",
            " |  \n",
            " |  __add__(self, value, /)\n",
            " |      Return self+value.\n",
            " |  \n",
            " |  __contains__(self, key, /)\n",
            " |      Return key in self.\n",
            " |  \n",
            " |  __delitem__(self, key, /)\n",
            " |      Delete self[key].\n",
            " |  \n",
            " |  __eq__(self, value, /)\n",
            " |      Return self==value.\n",
            " |  \n",
            " |  __ge__(self, value, /)\n",
            " |      Return self>=value.\n",
            " |  \n",
            " |  __getattribute__(self, name, /)\n",
            " |      Return getattr(self, name).\n",
            " |  \n",
            " |  __getitem__(...)\n",
            " |      x.__getitem__(y) <==> x[y]\n",
            " |  \n",
            " |  __gt__(self, value, /)\n",
            " |      Return self>value.\n",
            " |  \n",
            " |  __iadd__(self, value, /)\n",
            " |      Implement self+=value.\n",
            " |  \n",
            " |  __imul__(self, value, /)\n",
            " |      Implement self*=value.\n",
            " |  \n",
            " |  __init__(self, /, *args, **kwargs)\n",
            " |      Initialize self.  See help(type(self)) for accurate signature.\n",
            " |  \n",
            " |  __iter__(self, /)\n",
            " |      Implement iter(self).\n",
            " |  \n",
            " |  __le__(self, value, /)\n",
            " |      Return self<=value.\n",
            " |  \n",
            " |  __len__(self, /)\n",
            " |      Return len(self).\n",
            " |  \n",
            " |  __lt__(self, value, /)\n",
            " |      Return self<value.\n",
            " |  \n",
            " |  __mul__(self, value, /)\n",
            " |      Return self*value.\n",
            " |  \n",
            " |  __ne__(self, value, /)\n",
            " |      Return self!=value.\n",
            " |  \n",
            " |  __repr__(self, /)\n",
            " |      Return repr(self).\n",
            " |  \n",
            " |  __reversed__(self, /)\n",
            " |      Return a reverse iterator over the list.\n",
            " |  \n",
            " |  __rmul__(self, value, /)\n",
            " |      Return value*self.\n",
            " |  \n",
            " |  __setitem__(self, key, value, /)\n",
            " |      Set self[key] to value.\n",
            " |  \n",
            " |  __sizeof__(self, /)\n",
            " |      Return the size of the list in memory, in bytes.\n",
            " |  \n",
            " |  append(self, object, /)\n",
            " |      Append object to the end of the list.\n",
            " |  \n",
            " |  clear(self, /)\n",
            " |      Remove all items from list.\n",
            " |  \n",
            " |  copy(self, /)\n",
            " |      Return a shallow copy of the list.\n",
            " |  \n",
            " |  count(self, value, /)\n",
            " |      Return number of occurrences of value.\n",
            " |  \n",
            " |  extend(self, iterable, /)\n",
            " |      Extend list by appending elements from the iterable.\n",
            " |  \n",
            " |  index(self, value, start=0, stop=9223372036854775807, /)\n",
            " |      Return first index of value.\n",
            " |      \n",
            " |      Raises ValueError if the value is not present.\n",
            " |  \n",
            " |  insert(self, index, object, /)\n",
            " |      Insert object before index.\n",
            " |  \n",
            " |  pop(self, index=-1, /)\n",
            " |      Remove and return item at index (default last).\n",
            " |      \n",
            " |      Raises IndexError if list is empty or index is out of range.\n",
            " |  \n",
            " |  remove(self, value, /)\n",
            " |      Remove first occurrence of value.\n",
            " |      \n",
            " |      Raises ValueError if the value is not present.\n",
            " |  \n",
            " |  reverse(self, /)\n",
            " |      Reverse *IN PLACE*.\n",
            " |  \n",
            " |  sort(self, /, *, key=None, reverse=False)\n",
            " |      Sort the list in ascending order and return None.\n",
            " |      \n",
            " |      The sort is in-place (i.e. the list itself is modified) and stable (i.e. the\n",
            " |      order of two equal elements is maintained).\n",
            " |      \n",
            " |      If a key function is given, apply it once to each list item and sort them,\n",
            " |      ascending or descending, according to their function values.\n",
            " |      \n",
            " |      The reverse flag can be set to sort in descending order.\n",
            " |  \n",
            " |  ----------------------------------------------------------------------\n",
            " |  Class methods defined here:\n",
            " |  \n",
            " |  __class_getitem__(...) from builtins.type\n",
            " |      See PEP 585\n",
            " |  \n",
            " |  ----------------------------------------------------------------------\n",
            " |  Static methods defined here:\n",
            " |  \n",
            " |  __new__(*args, **kwargs) from builtins.type\n",
            " |      Create and return a new object.  See help(type) for accurate signature.\n",
            " |  \n",
            " |  ----------------------------------------------------------------------\n",
            " |  Data and other attributes defined here:\n",
            " |  \n",
            " |  __hash__ = None\n",
            "\n"
          ]
        }
      ]
    },
    {
      "cell_type": "code",
      "source": [
        "lista = []\n",
        "lista"
      ],
      "metadata": {
        "id": "HamC-3TNL6CG",
        "colab": {
          "base_uri": "https://localhost:8080/"
        },
        "outputId": "de27f15e-0365-422f-c1a6-93e1edf21db4"
      },
      "execution_count": null,
      "outputs": [
        {
          "output_type": "execute_result",
          "data": {
            "text/plain": [
              "[]"
            ]
          },
          "metadata": {},
          "execution_count": 2
        }
      ]
    },
    {
      "cell_type": "code",
      "metadata": {
        "id": "96euNlWspqHN",
        "colab": {
          "base_uri": "https://localhost:8080/"
        },
        "outputId": "e952d537-b0bb-4044-b81d-90814db943d8"
      },
      "source": [
        "# Tipo nativo: Python\n",
        "type(lista)"
      ],
      "execution_count": null,
      "outputs": [
        {
          "output_type": "execute_result",
          "data": {
            "text/plain": [
              "list"
            ]
          },
          "metadata": {},
          "execution_count": 3
        }
      ]
    },
    {
      "cell_type": "code",
      "metadata": {
        "colab": {
          "base_uri": "https://localhost:8080/"
        },
        "id": "ZI0oE8WBpWaf",
        "outputId": "85c478c5-81e8-4336-d648-ac65ab05904f"
      },
      "source": [
        "# Declaração / Implementação\n",
        "lista = [2023, 5.28, 'FACE', 'Python', 8.6, [np.around((mt.pi), 5), np.around(mt.sqrt(mt.pi ** 3), 2)]]\n",
        "lista"
      ],
      "execution_count": null,
      "outputs": [
        {
          "output_type": "execute_result",
          "data": {
            "text/plain": [
              "[2023, 5.28, 'FACE', 'Python', 8.6, [3.14159, 5.57]]"
            ]
          },
          "metadata": {},
          "execution_count": 8
        }
      ]
    },
    {
      "cell_type": "code",
      "metadata": {
        "colab": {
          "base_uri": "https://localhost:8080/"
        },
        "id": "80Rtcdzkp-Al",
        "outputId": "81dd211d-b771-40a6-9150-673938ce1382"
      },
      "source": [
        "# Funções embutidas: len (tamanho da lista)\n",
        "len(lista)"
      ],
      "execution_count": null,
      "outputs": [
        {
          "output_type": "execute_result",
          "data": {
            "text/plain": [
              "6"
            ]
          },
          "metadata": {},
          "execution_count": 9
        }
      ]
    },
    {
      "cell_type": "code",
      "metadata": {
        "id": "PL4qdPbOquDu",
        "colab": {
          "base_uri": "https://localhost:8080/",
          "height": 158
        },
        "outputId": "575b3e5e-f189-4dec-e6c0-8b2c5093cc47"
      },
      "source": [
        "# Funções embutidas: min (menor valor da lista)\n",
        "min(lista)"
      ],
      "execution_count": null,
      "outputs": [
        {
          "output_type": "error",
          "ename": "TypeError",
          "evalue": "'<' not supported between instances of 'str' and 'float'",
          "traceback": [
            "\u001b[0;31m---------------------------------------------------------------------------\u001b[0m",
            "\u001b[0;31mTypeError\u001b[0m                                 Traceback (most recent call last)",
            "\u001b[0;32m<ipython-input-10-9f158b86c470>\u001b[0m in \u001b[0;36m<cell line: 2>\u001b[0;34m()\u001b[0m\n\u001b[1;32m      1\u001b[0m \u001b[0;31m# Funções embutidas: min (menor valor da lista)\u001b[0m\u001b[0;34m\u001b[0m\u001b[0;34m\u001b[0m\u001b[0m\n\u001b[0;32m----> 2\u001b[0;31m \u001b[0mmin\u001b[0m\u001b[0;34m(\u001b[0m\u001b[0mlista\u001b[0m\u001b[0;34m)\u001b[0m\u001b[0;34m\u001b[0m\u001b[0;34m\u001b[0m\u001b[0m\n\u001b[0m",
            "\u001b[0;31mTypeError\u001b[0m: '<' not supported between instances of 'str' and 'float'"
          ]
        }
      ]
    },
    {
      "cell_type": "markdown",
      "source": [
        "## Slicing (Fatiamento)"
      ],
      "metadata": {
        "id": "QwU1nijVHUnz"
      }
    },
    {
      "cell_type": "code",
      "source": [
        "lista"
      ],
      "metadata": {
        "colab": {
          "base_uri": "https://localhost:8080/"
        },
        "id": "eXJhaovPyMas",
        "outputId": "b2d9db0b-6806-4f45-e2cc-a27c08e4a9d2"
      },
      "execution_count": null,
      "outputs": [
        {
          "output_type": "execute_result",
          "data": {
            "text/plain": [
              "[2023, 5.28, 'FACE', 'Python', 8.6, [3.14159, 5.57]]"
            ]
          },
          "metadata": {},
          "execution_count": 12
        }
      ]
    },
    {
      "cell_type": "code",
      "source": [
        "# sublista = lista[START:STOP:STEP]\n",
        "'''\n",
        "START = 0\n",
        "STOP  = LEN (lista) - Não incluso\n",
        "STEP  = 1\n",
        "'''\n",
        "lista[0:6:1]"
      ],
      "metadata": {
        "id": "trEFojnCJoA7",
        "colab": {
          "base_uri": "https://localhost:8080/"
        },
        "outputId": "1947134b-a7a7-4abb-e393-da42e2a0418b"
      },
      "execution_count": null,
      "outputs": [
        {
          "output_type": "execute_result",
          "data": {
            "text/plain": [
              "[2023, 5.28, 'FACE', 'Python', 8.6]"
            ]
          },
          "metadata": {},
          "execution_count": 13
        }
      ]
    },
    {
      "cell_type": "code",
      "source": [
        "sub = lista[:3]\n",
        "sub"
      ],
      "metadata": {
        "id": "tIu3bq0lhcbF",
        "colab": {
          "base_uri": "https://localhost:8080/"
        },
        "outputId": "a8dd75ae-113a-433c-d29f-43522323f8f8"
      },
      "execution_count": null,
      "outputs": [
        {
          "output_type": "execute_result",
          "data": {
            "text/plain": [
              "[2023, 5.28, 'FACE']"
            ]
          },
          "metadata": {},
          "execution_count": 14
        }
      ]
    },
    {
      "cell_type": "markdown",
      "metadata": {
        "id": "Febk8PQWZNqK"
      },
      "source": [
        "Funções embutidas no Interpretador Python.exe: [Link](https://docs.python.org/pt-br/3/library/functions.html)"
      ]
    },
    {
      "cell_type": "markdown",
      "metadata": {
        "id": "IJdlMFruIP0n"
      },
      "source": [
        "#MANIPULAÇÃO DE LISTAS COM OBJETOS HOMOGÊNEOS"
      ]
    },
    {
      "cell_type": "markdown",
      "metadata": {
        "id": "Ei_z8BIIOS6H"
      },
      "source": [
        "$\\Longrightarrow$ **Operações sobre listas com as funções embutidas: Python**"
      ]
    },
    {
      "cell_type": "code",
      "metadata": {
        "id": "rWJFZdahJsYu"
      },
      "source": [
        "frutas = ['UVA', 'MAÇA', 'BANANA', 'PÊRA', 'JACA']"
      ],
      "execution_count": null,
      "outputs": []
    },
    {
      "cell_type": "code",
      "metadata": {
        "id": "GA57CBmpZqKh",
        "colab": {
          "base_uri": "https://localhost:8080/"
        },
        "outputId": "a342f937-8b41-44c3-a619-b91198ca9347"
      },
      "source": [
        "type(frutas[0])"
      ],
      "execution_count": null,
      "outputs": [
        {
          "output_type": "execute_result",
          "data": {
            "text/plain": [
              "str"
            ]
          },
          "metadata": {},
          "execution_count": 17
        }
      ]
    },
    {
      "cell_type": "code",
      "metadata": {
        "id": "yVxDoGbJJ7Vm",
        "colab": {
          "base_uri": "https://localhost:8080/",
          "height": 36
        },
        "outputId": "67a155fa-d86c-4cab-f46a-49e96a800cec"
      },
      "source": [
        "min(frutas)"
      ],
      "execution_count": null,
      "outputs": [
        {
          "output_type": "execute_result",
          "data": {
            "text/plain": [
              "'BANANA'"
            ],
            "application/vnd.google.colaboratory.intrinsic+json": {
              "type": "string"
            }
          },
          "metadata": {},
          "execution_count": 18
        }
      ]
    },
    {
      "cell_type": "code",
      "metadata": {
        "id": "YBo18ph8KTI-",
        "colab": {
          "base_uri": "https://localhost:8080/",
          "height": 36
        },
        "outputId": "cdf4a27f-6909-4927-935f-8cfa307f6fbd"
      },
      "source": [
        "max(frutas)"
      ],
      "execution_count": null,
      "outputs": [
        {
          "output_type": "execute_result",
          "data": {
            "text/plain": [
              "'UVA'"
            ],
            "application/vnd.google.colaboratory.intrinsic+json": {
              "type": "string"
            }
          },
          "metadata": {},
          "execution_count": 19
        }
      ]
    },
    {
      "cell_type": "code",
      "metadata": {
        "id": "vlQc3kbcKW4G",
        "colab": {
          "base_uri": "https://localhost:8080/"
        },
        "outputId": "d1d8ef03-3552-4ab9-dc43-257d22feb244"
      },
      "source": [
        "sorted(frutas)"
      ],
      "execution_count": null,
      "outputs": [
        {
          "output_type": "execute_result",
          "data": {
            "text/plain": [
              "['BANANA', 'JACA', 'MAÇA', 'PÊRA', 'UVA']"
            ]
          },
          "metadata": {},
          "execution_count": 20
        }
      ]
    },
    {
      "cell_type": "markdown",
      "metadata": {
        "id": "zzMF63S5O0p4"
      },
      "source": [
        "$\\Longrightarrow$ **Operações sobre listas com os métodos**:"
      ]
    },
    {
      "cell_type": "code",
      "metadata": {
        "id": "3Fn8Ol7BO5ee"
      },
      "source": [
        "frutas = ['UVA', 'MAÇA', 'BANANA', 'PÊRA', 'JACA']"
      ],
      "execution_count": null,
      "outputs": []
    },
    {
      "cell_type": "code",
      "metadata": {
        "id": "OTkGf6byPdXH",
        "colab": {
          "base_uri": "https://localhost:8080/"
        },
        "outputId": "92b5d035-cac7-4447-e90a-24ef70be3fee"
      },
      "source": [
        "frutas.append('MANGA')\n",
        "frutas"
      ],
      "execution_count": null,
      "outputs": [
        {
          "output_type": "execute_result",
          "data": {
            "text/plain": [
              "['UVA', 'MAÇA', 'BANANA', 'PÊRA', 'JACA', 'MANGA']"
            ]
          },
          "metadata": {},
          "execution_count": 22
        }
      ]
    },
    {
      "cell_type": "code",
      "metadata": {
        "id": "uu5y2jlqPpCF",
        "colab": {
          "base_uri": "https://localhost:8080/"
        },
        "outputId": "3c40ebf0-da32-4d1d-b241-a76ac9c39ad6"
      },
      "source": [
        "frutas.insert(1, 'MORANGO')\n",
        "frutas"
      ],
      "execution_count": null,
      "outputs": [
        {
          "output_type": "execute_result",
          "data": {
            "text/plain": [
              "['UVA', 'MORANGO', 'MAÇA', 'BANANA', 'PÊRA', 'JACA', 'MANGA']"
            ]
          },
          "metadata": {},
          "execution_count": 23
        }
      ]
    },
    {
      "cell_type": "code",
      "metadata": {
        "id": "YN7dOTlpQGL3",
        "colab": {
          "base_uri": "https://localhost:8080/",
          "height": 141
        },
        "outputId": "1ff6c52a-4aab-481a-dcd2-6493f44404a8"
      },
      "source": [
        "frutas.index('MAçA')"
      ],
      "execution_count": null,
      "outputs": [
        {
          "output_type": "error",
          "ename": "ValueError",
          "evalue": "'MAçA' is not in list",
          "traceback": [
            "\u001b[0;31m---------------------------------------------------------------------------\u001b[0m",
            "\u001b[0;31mValueError\u001b[0m                                Traceback (most recent call last)",
            "\u001b[0;32m<ipython-input-25-387977dbe074>\u001b[0m in \u001b[0;36m<cell line: 1>\u001b[0;34m()\u001b[0m\n\u001b[0;32m----> 1\u001b[0;31m \u001b[0mfrutas\u001b[0m\u001b[0;34m.\u001b[0m\u001b[0mindex\u001b[0m\u001b[0;34m(\u001b[0m\u001b[0;34m'MAçA'\u001b[0m\u001b[0;34m)\u001b[0m\u001b[0;34m\u001b[0m\u001b[0;34m\u001b[0m\u001b[0m\n\u001b[0m",
            "\u001b[0;31mValueError\u001b[0m: 'MAçA' is not in list"
          ]
        }
      ]
    },
    {
      "cell_type": "code",
      "metadata": {
        "id": "ikciS59zPWw2"
      },
      "source": [
        "frutas.sort()\n",
        "frutas"
      ],
      "execution_count": null,
      "outputs": []
    },
    {
      "cell_type": "markdown",
      "metadata": {
        "id": "LIfIDLMrD0qX"
      },
      "source": [
        "**Lista completa dos métodos da estrutura de dados lista** (list) são:\n",
        "\n",
        "$\\mapsto$\t**INSERÇÃO**: append: Inserir no final da Lista\n",
        "\n",
        "$\\mapsto$\t**INSERÇÃO**: insert: Escolha o index de Inserção;\n",
        "\n",
        "$\\mapsto$ **REMOÇÃO**: remove: Deletar pelo nome\n",
        "\n",
        "$\\mapsto$ **REMOÇÃO**: pop: Deletar pelo Index\n",
        "\n",
        "$\\mapsto$\t**ORDENAÇÃO**: sort;\n",
        "\n",
        "$\\mapsto$\t**PESQUISAR**: index, count;\n",
        "\n",
        "$\\mapsto$\t**DIVERSOS**: clear, copy, reverse.\n",
        "\n",
        "Sendo que; a lista completa e as suas funcionalidades estão descritas em https://docs.python.org/3/tutorial/datastructures.html.\n"
      ]
    },
    {
      "cell_type": "markdown",
      "metadata": {
        "id": "XTlCoPy_A_t_"
      },
      "source": [
        "#TRATAMENTO DE EXCEÇÃO: TRY-EXCEPT"
      ]
    },
    {
      "cell_type": "code",
      "source": [
        "1/0"
      ],
      "metadata": {
        "id": "EyGzs9zkczJv",
        "colab": {
          "base_uri": "https://localhost:8080/",
          "height": 141
        },
        "outputId": "7c62c8ab-4147-4d24-9dc8-5b4bc56d8173"
      },
      "execution_count": null,
      "outputs": [
        {
          "output_type": "error",
          "ename": "ZeroDivisionError",
          "evalue": "division by zero",
          "traceback": [
            "\u001b[0;31m---------------------------------------------------------------------------\u001b[0m",
            "\u001b[0;31mZeroDivisionError\u001b[0m                         Traceback (most recent call last)",
            "\u001b[0;32m<ipython-input-26-9e1622b385b6>\u001b[0m in \u001b[0;36m<cell line: 1>\u001b[0;34m()\u001b[0m\n\u001b[0;32m----> 1\u001b[0;31m \u001b[0;36m1\u001b[0m\u001b[0;34m/\u001b[0m\u001b[0;36m0\u001b[0m\u001b[0;34m\u001b[0m\u001b[0;34m\u001b[0m\u001b[0m\n\u001b[0m",
            "\u001b[0;31mZeroDivisionError\u001b[0m: division by zero"
          ]
        }
      ]
    },
    {
      "cell_type": "code",
      "source": [
        "lista[7]"
      ],
      "metadata": {
        "id": "GZ1TlLT2iYE0"
      },
      "execution_count": null,
      "outputs": []
    },
    {
      "cell_type": "code",
      "metadata": {
        "id": "tN2DYEo5JCtm"
      },
      "source": [
        "while True:\n",
        "  try:\n",
        "    X = int(input('X: '))\n",
        "    print(f'X: {1 / X: .5f}')\n",
        "  except Exception as erro:\n",
        "    print(f'Erro de Exceção: {erro}')\n",
        "    break"
      ],
      "execution_count": null,
      "outputs": []
    },
    {
      "cell_type": "code",
      "metadata": {
        "id": "Pv7JHTG1O1-K"
      },
      "source": [
        "try:\n",
        "  X = int(input('Entre com um Número inteiro:'))\n",
        "  print(f'Quadro de X: {X ** 2}')\n",
        "except Exception as erro:\n",
        "  print(f'Erro de Exceção: {erro}')"
      ],
      "execution_count": null,
      "outputs": []
    },
    {
      "cell_type": "code",
      "metadata": {
        "id": "_NvT7zhPKmz4"
      },
      "source": [
        "frutas = ['UVA', 'MAÇA', 'BANANA', 'PÊRA', 'JACA']\n",
        "try:\n",
        "  print(sum(frutas))\n",
        "except Exception as erro:\n",
        "  print(f'Erro de Exceção: {erro}')"
      ],
      "execution_count": null,
      "outputs": []
    },
    {
      "cell_type": "code",
      "metadata": {
        "id": "LIqp_EYuLPA4"
      },
      "source": [
        "frutas = ['UVA', 'MAÇA', 'BANANA', 'PÊRA', 'JACA']\n",
        "try:\n",
        "  print(f'Fruta da Lista (Tamanho: {len(frutas)}): {frutas[-6]}')\n",
        "except Exception as erro:\n",
        "  print(f'Erro de Exceção: {erro}')"
      ],
      "execution_count": null,
      "outputs": []
    },
    {
      "cell_type": "code",
      "metadata": {
        "id": "u6PrCfj2LXOx"
      },
      "source": [
        "frutas = ['UVA', 'MAÇA', 'BANANA', 'PÊRA', 'JACA']\n",
        "try:\n",
        "  frutas.pop(6)\n",
        "  print(frutas)\n",
        "except Exception as erro:\n",
        "  print(f'Erro de Exceção: {erro}')"
      ],
      "execution_count": null,
      "outputs": []
    },
    {
      "cell_type": "markdown",
      "source": [
        "## Método Deletar: remove ou pop"
      ],
      "metadata": {
        "id": "xaExuhma2sp1"
      }
    },
    {
      "cell_type": "code",
      "source": [
        "frutas = ['UVA', 'MAÇA', 'BANANA', 'PÊRA', 'JACA']\n",
        "try:\n",
        "  nomeFruta = input('Entre com a Fruta para deletar: ')\n",
        "  frutas.remove(nomeFruta)\n",
        "except:\n",
        "  print(f'Fruta: {nomeFruta} não localizada na lista')\n",
        "frutas"
      ],
      "metadata": {
        "id": "ISWGclszeUfd",
        "colab": {
          "base_uri": "https://localhost:8080/"
        },
        "outputId": "8916f20f-8134-4fff-8ced-5c50c97ea453"
      },
      "execution_count": null,
      "outputs": [
        {
          "output_type": "stream",
          "name": "stdout",
          "text": [
            "Entre com a Fruta para deletar: BANANa\n",
            "Fruta: BANANa não localizada na lista\n"
          ]
        },
        {
          "output_type": "execute_result",
          "data": {
            "text/plain": [
              "['UVA', 'MAÇA', 'BANANA', 'PÊRA', 'JACA']"
            ]
          },
          "metadata": {},
          "execution_count": 37
        }
      ]
    },
    {
      "cell_type": "code",
      "source": [
        "frutas"
      ],
      "metadata": {
        "colab": {
          "base_uri": "https://localhost:8080/"
        },
        "id": "_zlxB9_l21as",
        "outputId": "4a3a105a-51b5-4baa-b387-1f86acbfe11f"
      },
      "execution_count": null,
      "outputs": [
        {
          "output_type": "execute_result",
          "data": {
            "text/plain": [
              "['UVA', 'MAÇA', 'BANANA', 'PÊRA', 'JACA']"
            ]
          },
          "metadata": {},
          "execution_count": 38
        }
      ]
    },
    {
      "cell_type": "code",
      "source": [
        "frutas.pop(3)"
      ],
      "metadata": {
        "id": "7GClus7ASHdC",
        "colab": {
          "base_uri": "https://localhost:8080/",
          "height": 141
        },
        "outputId": "e11e54c2-cf2f-406a-8e2e-f50a8a0778e1"
      },
      "execution_count": null,
      "outputs": [
        {
          "output_type": "error",
          "ename": "IndexError",
          "evalue": "pop index out of range",
          "traceback": [
            "\u001b[0;31m---------------------------------------------------------------------------\u001b[0m",
            "\u001b[0;31mIndexError\u001b[0m                                Traceback (most recent call last)",
            "\u001b[0;32m<ipython-input-43-10275a9158d0>\u001b[0m in \u001b[0;36m<cell line: 1>\u001b[0;34m()\u001b[0m\n\u001b[0;32m----> 1\u001b[0;31m \u001b[0mfrutas\u001b[0m\u001b[0;34m.\u001b[0m\u001b[0mpop\u001b[0m\u001b[0;34m(\u001b[0m\u001b[0;36m3\u001b[0m\u001b[0;34m)\u001b[0m\u001b[0;34m\u001b[0m\u001b[0;34m\u001b[0m\u001b[0m\n\u001b[0m",
            "\u001b[0;31mIndexError\u001b[0m: pop index out of range"
          ]
        }
      ]
    },
    {
      "cell_type": "code",
      "source": [
        "frutas"
      ],
      "metadata": {
        "colab": {
          "base_uri": "https://localhost:8080/"
        },
        "id": "3ISk6Uml268U",
        "outputId": "7deeadd8-5390-4725-d508-4406e33cfbbf"
      },
      "execution_count": null,
      "outputs": [
        {
          "output_type": "execute_result",
          "data": {
            "text/plain": [
              "['MAÇA', 'BANANA', 'PÊRA']"
            ]
          },
          "metadata": {},
          "execution_count": 42
        }
      ]
    },
    {
      "cell_type": "markdown",
      "source": [
        "## Método Index:"
      ],
      "metadata": {
        "id": "zmezm1Sw2l3d"
      }
    },
    {
      "cell_type": "code",
      "metadata": {
        "id": "NhzxA05GLhl-",
        "colab": {
          "base_uri": "https://localhost:8080/"
        },
        "outputId": "7406b684-f6ce-4f26-989f-46003c603581"
      },
      "source": [
        "frutas = ['UVA', 'MAÇA', 'BANANA', 'PÊRA', 'JACA']\n",
        "try:\n",
        "  nomeFruta = input('Entre com a Fruta de pesquisa: ')\n",
        "  print(f\"Fruta da Lista - INDEX: {frutas.index(nomeFruta)}\")\n",
        "except:\n",
        "  print(f'Fruta: {nomeFruta} não localizada na lista')"
      ],
      "execution_count": null,
      "outputs": [
        {
          "output_type": "stream",
          "name": "stdout",
          "text": [
            "Entre com a Fruta de pesquisa: UVA\n",
            "Fruta da Lista - INDEX: 0\n"
          ]
        }
      ]
    },
    {
      "cell_type": "markdown",
      "metadata": {
        "id": "ugecJYKhLzbw"
      },
      "source": [
        "**Lista completa da classe Exceção (Exception)**:\n",
        "\n",
        "Site Python: [Clique aqui!](https://docs.python.org/3/library/exceptions.html)"
      ]
    },
    {
      "cell_type": "markdown",
      "source": [
        "# Tipo sequência de texto: [STRING](https://docs.python.org/pt-br/3/library/stdtypes.html#text-sequence-type-str)\n",
        "\n",
        "str é uma lista especial imutável."
      ],
      "metadata": {
        "id": "bOee5xeULK1-"
      }
    },
    {
      "cell_type": "code",
      "source": [
        "nome = 'FULANO DE TAL'"
      ],
      "metadata": {
        "id": "EEOGJEk_LNf1"
      },
      "execution_count": null,
      "outputs": []
    },
    {
      "cell_type": "code",
      "source": [
        "nome[0] = 'S'"
      ],
      "metadata": {
        "id": "uRL4GkB-M8V3",
        "colab": {
          "base_uri": "https://localhost:8080/",
          "height": 141
        },
        "outputId": "1beab3ea-198e-4b8d-acbd-fca6cf011a8f"
      },
      "execution_count": null,
      "outputs": [
        {
          "output_type": "error",
          "ename": "TypeError",
          "evalue": "'str' object does not support item assignment",
          "traceback": [
            "\u001b[0;31m---------------------------------------------------------------------------\u001b[0m",
            "\u001b[0;31mTypeError\u001b[0m                                 Traceback (most recent call last)",
            "\u001b[0;32m<ipython-input-48-d90eaad8e249>\u001b[0m in \u001b[0;36m<cell line: 1>\u001b[0;34m()\u001b[0m\n\u001b[0;32m----> 1\u001b[0;31m \u001b[0mnome\u001b[0m\u001b[0;34m[\u001b[0m\u001b[0;36m0\u001b[0m\u001b[0;34m]\u001b[0m \u001b[0;34m=\u001b[0m \u001b[0;34m'S'\u001b[0m\u001b[0;34m\u001b[0m\u001b[0;34m\u001b[0m\u001b[0m\n\u001b[0m",
            "\u001b[0;31mTypeError\u001b[0m: 'str' object does not support item assignment"
          ]
        }
      ]
    },
    {
      "cell_type": "markdown",
      "source": [
        "# EXERCÍCIO DE FIXAÇÃO:"
      ],
      "metadata": {
        "id": "md4BgMyT38ST"
      }
    },
    {
      "cell_type": "code",
      "source": [
        "compras = []  # LISTA VAZIA"
      ],
      "metadata": {
        "id": "FDnkYnUz7nv6"
      },
      "execution_count": null,
      "outputs": []
    },
    {
      "cell_type": "code",
      "source": [
        "# LISTA DE COMPRAS:\n",
        "index = 0\n",
        "print('MENU')\n",
        "print('1: INSERIR MERCADORIA')\n",
        "print('6: EXIBIR LISTA DE COMPRAS')\n",
        "print('0: SAIR')\n",
        "while True:\n",
        "  try:\n",
        "    opcao = int(input('SUA OPÇÃO: '))\n",
        "    if(opcao == 0):\n",
        "      break\n",
        "    elif(opcao != 1 and opcao != 6):\n",
        "      print('ERRO: DADOS DE ENTRADA. ESCOLHA DE NOVO')\n",
        "    else:\n",
        "      if(opcao == 1):\n",
        "        nomeMercadoria = input(f'NOME DA {index + 1}º MERCADORIA: ')\n",
        "        compras.append(nomeMercadoria)\n",
        "        index += 1\n",
        "      elif(opcao == 6):\n",
        "        print(f'LISTA DE COMPRAS COM {len(compras)} ITENS: ')\n",
        "        for indice, item  in enumerate(compras):\n",
        "          print(f'{indice + 1}º MERCADORIA: {item}')\n",
        "  except:\n",
        "    print('ERRO: DADOS DE ENTRADA. ESCOLHA DE NOVO')"
      ],
      "metadata": {
        "colab": {
          "base_uri": "https://localhost:8080/"
        },
        "id": "ouK10PXW4Yja",
        "outputId": "861dfc56-044c-4662-8828-c710a7ea2ef7"
      },
      "execution_count": null,
      "outputs": [
        {
          "output_type": "stream",
          "name": "stdout",
          "text": [
            "MENU\n",
            "1: INSERIR MERCADORIA\n",
            "6: EXIBIR LISTA DE COMPRAS\n",
            "0: SAIR\n",
            "SUA OPÇÃO: 6\n",
            "LISTA DE COMPRAS COM 3 ITENS: \n",
            "1º MERCADORIA: ARROZ\n",
            "2º MERCADORIA: FRANGO\n",
            "3º MERCADORIA: FEIJÃO\n"
          ]
        }
      ]
    },
    {
      "cell_type": "code",
      "source": [
        "compras"
      ],
      "metadata": {
        "colab": {
          "base_uri": "https://localhost:8080/"
        },
        "id": "iU0WAMp17Hhe",
        "outputId": "11c443e8-f8e4-44af-c8ca-1618e4193332"
      },
      "execution_count": null,
      "outputs": [
        {
          "output_type": "execute_result",
          "data": {
            "text/plain": [
              "['ARROZ', 'FRANGO', 'FEIJÃO']"
            ]
          },
          "metadata": {},
          "execution_count": 55
        }
      ]
    },
    {
      "cell_type": "markdown",
      "source": [
        "Criar uma lista de compra com nomes de mercadorias lidas do usuário.\n",
        "\n",
        "Após isso, faça:\n",
        "\n",
        "1. **RELATÓRIO 1**: Pesquisar uma mercadoria pelo nome a escolha do usuário.\n",
        "2. **RELATÓRIO 2**: Pesquisar uma mercadoria pela posição na lista a escolha do usuário.\n",
        "3. **RELATÓRIO 3**: Remover uma mercadoria da lista a escolha do usuário pelo nome.\n",
        "3. **RELATÓRIO 4**: Remover uma mercadoria da lista a escolha do usuário pela posição na lista.\n",
        "4. **RELATÓRIO 5**: Exibir na tela a lista de mercadoria enumerada em ordem alfabética."
      ],
      "metadata": {
        "id": "eHrUk0gW4ATz"
      }
    },
    {
      "cell_type": "code",
      "source": [
        "compras = []"
      ],
      "metadata": {
        "id": "A93ovfwmDFi0"
      },
      "execution_count": null,
      "outputs": []
    },
    {
      "cell_type": "code",
      "source": [
        "index, counter = 0,0\n",
        "while True:\n",
        "\n",
        "    print(f'{counter + 1}º USUÁRIO, digite (1) para INSERIR um produto, (2) para mostrar a lista e (0) para ENCERRAR: ',end='')\n",
        "    valor = int(input())\n",
        "    if valor < 0 or valor > 2:\n",
        "      print('ERRO: Valor digitado não está na variável.')\n",
        "    elif valor == 0:\n",
        "      print('PROGRAMA ENCERRADO.')\n",
        "      break\n",
        "    else:\n",
        "      counter += 1\n",
        "      if valor == 1:\n",
        "\n",
        "          print(f'Insira o nome do {len(compras) + 1}º PRODUTO: ',end='')\n",
        "          nomeProd = str(input()).upper()\n",
        "          compras.append(nomeProd)\n",
        "          index += 1\n",
        "\n",
        "      else:\n",
        "        print(f'Lista de compras com {len(compras)} itens: ')\n",
        "        for contagem,item in enumerate(compras):\n",
        "          print(f'{contagem + 1}º ITEM: {item}.')\n",
        "      print()\n"
      ],
      "metadata": {
        "colab": {
          "base_uri": "https://localhost:8080/"
        },
        "id": "h2_lsNXv8qYa",
        "outputId": "b08bbe7a-314e-4661-ceaf-352cb8f08c9b"
      },
      "execution_count": null,
      "outputs": [
        {
          "output_type": "stream",
          "name": "stdout",
          "text": [
            "1º USUÁRIO, digite (1) para INSERIR um produto, (2) para mostrar a lista e (0) para ENCERRAR: 2\n",
            "Lista de compras com 2 itens: \n",
            "1º ITEM: UVA.\n",
            "2º ITEM: MAÇA.\n",
            "\n",
            "2º USUÁRIO, digite (1) para INSERIR um produto, (2) para mostrar a lista e (0) para ENCERRAR: 1\n",
            "Insira o nome do 3º PRODUTO: pera\n",
            "\n",
            "3º USUÁRIO, digite (1) para INSERIR um produto, (2) para mostrar a lista e (0) para ENCERRAR: 2\n",
            "Lista de compras com 3 itens: \n",
            "1º ITEM: UVA.\n",
            "2º ITEM: MAÇA.\n",
            "3º ITEM: PERA.\n",
            "\n",
            "4º USUÁRIO, digite (1) para INSERIR um produto, (2) para mostrar a lista e (0) para ENCERRAR: 0\n",
            "PROGRAMA ENCERRADO.\n"
          ]
        }
      ]
    },
    {
      "cell_type": "markdown",
      "metadata": {
        "id": "vK6T76dMx9YH"
      },
      "source": [
        "#MANIPULAÇÃO DE LISTAS COM OBJETOS HETEROGÊNEOS"
      ]
    },
    {
      "cell_type": "markdown",
      "source": [
        "Faça a modelagem do metadado - PAUTA: Lista de Alunos, conforme a seguir:"
      ],
      "metadata": {
        "id": "1AOS1PBENk-v"
      }
    },
    {
      "cell_type": "markdown",
      "source": [
        "<center>\n",
        "\n",
        "![Captura de Tela 2023-09-25 às 18.33.26.png](data:image/png;base64,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)"
      ],
      "metadata": {
        "id": "BkdyIpntN1gq"
      }
    },
    {
      "cell_type": "markdown",
      "metadata": {
        "id": "oZNHH4cnPoDF"
      },
      "source": [
        "##EXEMPLO 1:"
      ]
    },
    {
      "cell_type": "code",
      "metadata": {
        "id": "jn0LYU9lPpsN"
      },
      "source": [],
      "execution_count": null,
      "outputs": []
    },
    {
      "cell_type": "markdown",
      "metadata": {
        "id": "Xtmi5OcLr9Tv"
      },
      "source": [
        "# Referência Bibliográfica:"
      ]
    },
    {
      "cell_type": "markdown",
      "metadata": {
        "id": "tBOb6EVtr9u-"
      },
      "source": [
        "<div class=\"hint\">\n",
        "        <b>APRENDA+ :</b><br/>\n",
        "                &#10139; <b>Python.org</b>: Listas\n",
        "        <a href=\"https://docs.python.org/3.8/library/stdtypes.html#list\">Link</a><br/>\n",
        "    </div>"
      ]
    }
  ]
}